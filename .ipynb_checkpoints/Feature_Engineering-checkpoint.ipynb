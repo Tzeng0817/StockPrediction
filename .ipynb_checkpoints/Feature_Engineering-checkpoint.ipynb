{
 "cells": [
  {
   "cell_type": "code",
   "execution_count": null,
   "metadata": {},
   "outputs": [],
   "source": [
    "import glob\n",
    "import os\n",
    "import pandas as pd\n",
    "\n",
    "all_stock_df_list = []\n",
    "for filename in glob.glob(os.getcwd() +\"/data/raw/\"+\"*.csv\"):\n",
    "    x = pd.read_csv(filename, low_memory=False)\n",
    "    all_stock_df_list.append(x)\n",
    "\n",
    "df = pd.concat(all_stock_df_list)\n",
    "df.reset_index(inplace=True, drop=True)\n",
    "df"
   ]
  }
 ],
 "metadata": {
  "kernelspec": {
   "display_name": "Python 3",
   "language": "python",
   "name": "python3"
  },
  "language_info": {
   "codemirror_mode": {
    "name": "ipython",
    "version": 3
   },
   "file_extension": ".py",
   "mimetype": "text/x-python",
   "name": "python",
   "nbconvert_exporter": "python",
   "pygments_lexer": "ipython3",
   "version": "3.8.3"
  }
 },
 "nbformat": 4,
 "nbformat_minor": 4
}
