{
 "cells": [
  {
   "cell_type": "code",
   "execution_count": 2,
   "metadata": {
    "pycharm": {
     "name": "#%%\n"
    }
   },
   "outputs": [
    {
     "ename": "NameError",
     "evalue": "name 'pd' is not defined",
     "output_type": "error",
     "traceback": [
      "\u001B[0;31m---------------------------------------------------------------------------\u001B[0m",
      "\u001B[0;31mNameError\u001B[0m                                 Traceback (most recent call last)",
      "\u001B[0;32m<ipython-input-2-15c894fea00e>\u001B[0m in \u001B[0;36m<module>\u001B[0;34m\u001B[0m\n\u001B[0;32m----> 1\u001B[0;31m \u001B[0mfang\u001B[0m \u001B[0;34m=\u001B[0m \u001B[0mpd\u001B[0m\u001B[0;34m.\u001B[0m\u001B[0mconcat\u001B[0m\u001B[0;34m(\u001B[0m\u001B[0;34m[\u001B[0m\u001B[0mpd\u001B[0m\u001B[0;34m.\u001B[0m\u001B[0mread_csv\u001B[0m\u001B[0;34m(\u001B[0m\u001B[0mf\u001B[0m\u001B[0;34m)\u001B[0m \u001B[0;32mfor\u001B[0m \u001B[0mf\u001B[0m \u001B[0;32min\u001B[0m \u001B[0mglob\u001B[0m\u001B[0;34m.\u001B[0m\u001B[0mglob\u001B[0m\u001B[0;34m(\u001B[0m\u001B[0mos\u001B[0m\u001B[0;34m.\u001B[0m\u001B[0mgetcwd\u001B[0m\u001B[0;34m(\u001B[0m\u001B[0;34m)\u001B[0m\u001B[0;34m+\u001B[0m \u001B[0;34m'/data.tmp/raw/fang/'\u001B[0m\u001B[0;34m+\u001B[0m\u001B[0;34m'*.csv'\u001B[0m\u001B[0;34m)\u001B[0m\u001B[0;34m]\u001B[0m\u001B[0;34m,\u001B[0m \u001B[0mignore_index\u001B[0m \u001B[0;34m=\u001B[0m \u001B[0;32mTrue\u001B[0m\u001B[0;34m)\u001B[0m\u001B[0;34m\u001B[0m\u001B[0;34m\u001B[0m\u001B[0m\n\u001B[0m\u001B[1;32m      2\u001B[0m \u001B[0mfang\u001B[0m\u001B[0;34m.\u001B[0m\u001B[0mto_csv\u001B[0m\u001B[0;34m(\u001B[0m\u001B[0mos\u001B[0m\u001B[0;34m.\u001B[0m\u001B[0mgetcwd\u001B[0m\u001B[0;34m(\u001B[0m\u001B[0;34m)\u001B[0m\u001B[0;34m+\u001B[0m\u001B[0;34m\"/data.tmp/processed/fang.csv\"\u001B[0m\u001B[0;34m,\u001B[0m\u001B[0mindex\u001B[0m\u001B[0;34m=\u001B[0m\u001B[0;32mFalse\u001B[0m\u001B[0;34m)\u001B[0m\u001B[0;34m\u001B[0m\u001B[0;34m\u001B[0m\u001B[0m\n\u001B[1;32m      3\u001B[0m \u001B[0mfang\u001B[0m\u001B[0;34m\u001B[0m\u001B[0;34m\u001B[0m\u001B[0m\n",
      "\u001B[0;31mNameError\u001B[0m: name 'pd' is not defined"
     ]
    }
   ],
   "source": [
    "fang = pd.concat([pd.read_csv(f) for f in glob.glob(os.getcwd()+ '/data.tmp/raw/fang/'+'*.csv')], ignore_index = True)\n",
    "fang.to_csv(os.getcwd()+\"/data.tmp/processed/fang.csv\",index=False)\n",
    "fang"
   ]
  },
  {
   "cell_type": "markdown",
   "metadata": {},
   "source": [
    "End of loading in csv files"
   ]
  },
  {
   "cell_type": "markdown",
   "metadata": {},
   "source": [
    "# Stock prediction using LSTM\n",
    "In this notebook, we have attempted to use LSTM to predict the closing price of FANG stocks. First, we need to include some modules that will be used for the plotting and ML models."
   ]
  },
  {
   "cell_type": "code",
   "execution_count": null,
   "metadata": {
    "pycharm": {
     "name": "#%%\n"
    }
   },
   "outputs": [],
   "source": [
    "import pandas as pd\n",
    "import numpy as np\n",
    "\n",
    "import matplotlib.pyplot as plt\n",
    "import seaborn as sns\n",
    "sns.set_style('darkgrid')\n",
    "plt.style.use(\"seaborn-pastel\")\n",
    "%matplotlib inline\n",
    "\n",
    "from pandas_datareader.data import DataReader\n",
    "from datetime import datetime\n"
   ]
  },
  {
   "cell_type": "markdown",
   "metadata": {},
   "source": [
    "For this example, we will use Apple, Google, Microsoft, Amazon, Facebook, and Netflix. We can use DataReader to get live data from Yahoo on these stocks."
   ]
  },
  {
   "cell_type": "code",
   "execution_count": null,
   "metadata": {
    "pycharm": {
     "name": "#%%\n"
    }
   },
   "outputs": [],
   "source": [
    "companies = ['AAPL', 'GOOG', 'MSFT', 'AMZN', 'FB', 'NFLX']\n",
    "end = datetime.now()\n",
    "start = datetime(end.year - 1, end.month, end.day)\n",
    "\n",
    "for ticker in companies:\n",
    "    globals()[ticker] = DataReader(ticker, 'yahoo', start, end)"
   ]
  },
  {
   "cell_type": "markdown",
   "metadata": {},
   "source": [
    "We can start by doing analysis on one of the stocks, Amazon. Lets get the stock prices for the past 8 years."
   ]
  },
  {
   "cell_type": "code",
   "execution_count": null,
   "metadata": {
    "pycharm": {
     "name": "#%%\n"
    }
   },
   "outputs": [],
   "source": [
    "df = DataReader('AMZN', data_source='yahoo', start='2012-01-01', end=datetime.now())\n",
    "df"
   ]
  },
  {
   "cell_type": "markdown",
   "metadata": {},
   "source": [
    "We have information on the high, low, open, close, and volume for each day in the past year. If we look at the plot of the close price (which is what we'll use for analysis), you can see the fluctiation in price."
   ]
  },
  {
   "cell_type": "code",
   "execution_count": 3,
   "metadata": {
    "pycharm": {
     "name": "#%%\n"
    }
   },
   "outputs": [
    {
     "ename": "NameError",
     "evalue": "name 'plt' is not defined",
     "output_type": "error",
     "traceback": [
      "\u001B[0;31m---------------------------------------------------------------------------\u001B[0m",
      "\u001B[0;31mNameError\u001B[0m                                 Traceback (most recent call last)",
      "\u001B[0;32m<ipython-input-3-ff5c91e01124>\u001B[0m in \u001B[0;36m<module>\u001B[0;34m\u001B[0m\n\u001B[0;32m----> 1\u001B[0;31m \u001B[0mplt\u001B[0m\u001B[0;34m.\u001B[0m\u001B[0mfigure\u001B[0m\u001B[0;34m(\u001B[0m\u001B[0mfigsize\u001B[0m\u001B[0;34m=\u001B[0m\u001B[0;34m(\u001B[0m\u001B[0;36m16\u001B[0m\u001B[0;34m,\u001B[0m\u001B[0;36m8\u001B[0m\u001B[0;34m)\u001B[0m\u001B[0;34m)\u001B[0m\u001B[0;34m\u001B[0m\u001B[0;34m\u001B[0m\u001B[0m\n\u001B[0m\u001B[1;32m      2\u001B[0m \u001B[0mplt\u001B[0m\u001B[0;34m.\u001B[0m\u001B[0mtitle\u001B[0m\u001B[0;34m(\u001B[0m\u001B[0;34m'Close Price History'\u001B[0m\u001B[0;34m)\u001B[0m\u001B[0;34m\u001B[0m\u001B[0;34m\u001B[0m\u001B[0m\n\u001B[1;32m      3\u001B[0m \u001B[0mplt\u001B[0m\u001B[0;34m.\u001B[0m\u001B[0mplot\u001B[0m\u001B[0;34m(\u001B[0m\u001B[0mdf\u001B[0m\u001B[0;34m[\u001B[0m\u001B[0;34m'Close'\u001B[0m\u001B[0;34m]\u001B[0m\u001B[0;34m)\u001B[0m\u001B[0;34m\u001B[0m\u001B[0;34m\u001B[0m\u001B[0m\n\u001B[1;32m      4\u001B[0m \u001B[0mplt\u001B[0m\u001B[0;34m.\u001B[0m\u001B[0mxlabel\u001B[0m\u001B[0;34m(\u001B[0m\u001B[0;34m'Date'\u001B[0m\u001B[0;34m,\u001B[0m \u001B[0mfontsize\u001B[0m\u001B[0;34m=\u001B[0m\u001B[0;36m18\u001B[0m\u001B[0;34m)\u001B[0m\u001B[0;34m\u001B[0m\u001B[0;34m\u001B[0m\u001B[0m\n\u001B[1;32m      5\u001B[0m \u001B[0mplt\u001B[0m\u001B[0;34m.\u001B[0m\u001B[0mylabel\u001B[0m\u001B[0;34m(\u001B[0m\u001B[0;34m'Close Price USD ($)'\u001B[0m\u001B[0;34m,\u001B[0m \u001B[0mfontsize\u001B[0m\u001B[0;34m=\u001B[0m\u001B[0;36m18\u001B[0m\u001B[0;34m)\u001B[0m\u001B[0;34m\u001B[0m\u001B[0;34m\u001B[0m\u001B[0m\n",
      "\u001B[0;31mNameError\u001B[0m: name 'plt' is not defined"
     ]
    }
   ],
   "source": [
    "plt.figure(figsize=(16,8))\n",
    "plt.title('Close Price History')\n",
    "plt.plot(df['Close'])\n",
    "plt.xlabel('Date', fontsize=18)\n",
    "plt.ylabel('Close Price USD ($)', fontsize=18)\n",
    "plt.show()"
   ]
  },
  {
   "cell_type": "markdown",
   "metadata": {},
   "source": [
    "for our dataset, we will just be working with the Close prices. For this example, we can use 60% of the data for training, and 40% for testing."
   ]
  },
  {
   "cell_type": "code",
   "execution_count": null,
   "metadata": {
    "pycharm": {
     "name": "#%%\n"
    }
   },
   "outputs": [],
   "source": [
    "data = df.filter(['Close'])\n",
    "dataset = data.values\n",
    "training_data_len = int(np.ceil( len(dataset) * .6 ))\n",
    "\n",
    "training_data_len"
   ]
  },
  {
   "cell_type": "markdown",
   "metadata": {},
   "source": [
    "We need to scale the data so that it is easier to work with in the model."
   ]
  },
  {
   "cell_type": "code",
   "execution_count": null,
   "metadata": {
    "pycharm": {
     "name": "#%%\n"
    }
   },
   "outputs": [],
   "source": [
    "from sklearn.preprocessing import MinMaxScaler\n",
    "\n",
    "scaler = MinMaxScaler(feature_range=(0,1))\n",
    "scaled_data = scaler.fit_transform(dataset)\n",
    "scaled_data"
   ]
  },
  {
   "cell_type": "markdown",
   "metadata": {},
   "source": [
    "Next, let's grab some training data for the model."
   ]
  },
  {
   "cell_type": "code",
   "execution_count": null,
   "metadata": {
    "pycharm": {
     "name": "#%%\n"
    }
   },
   "outputs": [],
   "source": [
    "\n",
    "train_data = scaled_data[0:int(training_data_len), :]\n",
    "x_train = []\n",
    "y_train = []\n",
    "\n",
    "for i in range(60, len(train_data)):\n",
    "    x_train.append(train_data[i-60:i, 0])\n",
    "    y_train.append(train_data[i, 0])\n",
    "        \n",
    "x_train, y_train = np.array(x_train), np.array(y_train)\n",
    "\n",
    "x_train = np.reshape(x_train, (x_train.shape[0], x_train.shape[1], 1))\n"
   ]
  },
  {
   "cell_type": "markdown",
   "metadata": {},
   "source": [
    "Keras makes it easy to implement LSTM."
   ]
  },
  {
   "cell_type": "code",
   "execution_count": null,
   "metadata": {
    "pycharm": {
     "name": "#%%\n"
    }
   },
   "outputs": [],
   "source": [
    "from keras.models import Sequential\n",
    "from keras.layers import Dense, LSTM\n",
    "\n",
    "model = Sequential()\n",
    "model.add(LSTM(50, return_sequences=True, input_shape= (x_train.shape[1], 1)))\n",
    "model.add(LSTM(50, return_sequences= False))\n",
    "model.add(Dense(25))\n",
    "model.add(Dense(1))\n",
    "\n",
    "model.compile(optimizer='adam', loss='mean_squared_error')\n",
    "\n",
    "model.fit(x_train, y_train, batch_size=1, epochs=1)"
   ]
  },
  {
   "cell_type": "markdown",
   "metadata": {},
   "source": [
    "Finally, we can test the model on the 40% left of the data, and calculate the RMSE."
   ]
  },
  {
   "cell_type": "code",
   "execution_count": null,
   "metadata": {
    "pycharm": {
     "name": "#%%\n"
    }
   },
   "outputs": [],
   "source": [
    "\n",
    "test_data = scaled_data[training_data_len - 60: , :]\n",
    "x_test = []\n",
    "y_test = dataset[training_data_len:, :]\n",
    "for i in range(60, len(test_data)):\n",
    "    x_test.append(test_data[i-60:i, 0])\n",
    "    \n",
    "x_test = np.array(x_test)\n",
    "\n",
    "x_test = np.reshape(x_test, (x_test.shape[0], x_test.shape[1], 1 ))\n",
    "\n",
    "predictions = model.predict(x_test)\n",
    "predictions = scaler.inverse_transform(predictions)\n",
    "\n",
    "rmse = np.sqrt(np.mean(((predictions - y_test) ** 2)))\n",
    "rmse"
   ]
  },
  {
   "cell_type": "markdown",
   "metadata": {},
   "source": [
    "As you can see, our model did pretty well. On average, it predicted a bit low on the closing prices."
   ]
  },
  {
   "cell_type": "code",
   "execution_count": null,
   "metadata": {
    "pycharm": {
     "name": "#%%\n"
    }
   },
   "outputs": [],
   "source": [
    "train = data[:training_data_len]\n",
    "valid = data[training_data_len:]\n",
    "valid['Predictions'] = predictions\n",
    "plt.figure(figsize=(16,8))\n",
    "plt.title('Model')\n",
    "plt.xlabel('Date', fontsize=18)\n",
    "plt.ylabel('Close Price USD ($)', fontsize=18)\n",
    "plt.plot(train['Close'])\n",
    "plt.plot(valid[['Close', 'Predictions']])\n",
    "plt.legend(['Train', 'Val', 'Predictions'], loc='upper left')\n",
    "plt.show()"
   ]
  },
  {
   "cell_type": "code",
   "execution_count": null,
   "metadata": {
    "pycharm": {
     "name": "#%%\n"
    }
   },
   "outputs": [],
   "source": [
    "valid"
   ]
  },
  {
   "cell_type": "markdown",
   "metadata": {},
   "source": [
    "Now let's use the method we just developed again, but on the remaining tickers."
   ]
  },
  {
   "cell_type": "code",
   "execution_count": null,
   "metadata": {
    "pycharm": {
     "name": "#%%\n"
    }
   },
   "outputs": [],
   "source": [
    "for i, company in enumerate(companies, 1):\n",
    "    df = DataReader(company, data_source='yahoo', start='2012-01-01', end=datetime.now())\n",
    "    data = df.filter(['Close'])\n",
    "    dataset = data.values\n",
    "    training_data_len = int(np.ceil( len(dataset) * .6 ))\n",
    "\n",
    "    scaler = MinMaxScaler(feature_range=(0,1))\n",
    "    scaled_data = scaler.fit_transform(dataset)\n",
    "\n",
    "\n",
    "    train_data = scaled_data[0:int(training_data_len), :]\n",
    "    x_train = []\n",
    "    y_train = []\n",
    "\n",
    "    for i in range(60, len(train_data)):\n",
    "        x_train.append(train_data[i-60:i, 0])\n",
    "        y_train.append(train_data[i, 0])\n",
    "            \n",
    "    x_train, y_train = np.array(x_train), np.array(y_train)\n",
    "\n",
    "    x_train = np.reshape(x_train, (x_train.shape[0], x_train.shape[1], 1))\n",
    "    model = Sequential()\n",
    "    model.add(LSTM(50, return_sequences=True, input_shape= (x_train.shape[1], 1)))\n",
    "    model.add(LSTM(50, return_sequences= False))\n",
    "    model.add(Dense(25))\n",
    "    model.add(Dense(1))\n",
    "\n",
    "    model.compile(optimizer='adam', loss='mean_squared_error')\n",
    "\n",
    "    model.fit(x_train, y_train, batch_size=1, epochs=1)\n",
    "    test_data = scaled_data[training_data_len - 60: , :]\n",
    "    x_test = []\n",
    "    y_test = dataset[training_data_len:, :]\n",
    "    for i in range(60, len(test_data)):\n",
    "        x_test.append(test_data[i-60:i, 0])\n",
    "        \n",
    "    x_test = np.array(x_test)\n",
    "\n",
    "    x_test = np.reshape(x_test, (x_test.shape[0], x_test.shape[1], 1 ))\n",
    "\n",
    "    predictions = model.predict(x_test)\n",
    "    predictions = scaler.inverse_transform(predictions)\n",
    "\n",
    "    rmse = np.sqrt(np.mean(((predictions - y_test) ** 2)))\n",
    "    train = data[:training_data_len]\n",
    "    valid = data[training_data_len:]\n",
    "    valid['Predictions'] = predictions\n",
    "    plt.figure(figsize=(16,8))\n",
    "    plt.title(company)\n",
    "    plt.xlabel('Date', fontsize=18)\n",
    "    plt.ylabel('Close Price USD ($)', fontsize=18)\n",
    "    plt.plot(train['Close'])\n",
    "    plt.plot(valid[['Close', 'Predictions']])\n",
    "    plt.legend(['Train', 'Val', 'Predictions'], loc='upper left')\n",
    "    plt.show()"
   ]
  },
  {
   "cell_type": "markdown",
   "metadata": {},
   "source": [
    "End of LSTM"
   ]
  },
  {
   "cell_type": "code",
   "execution_count": null,
   "metadata": {
    "pycharm": {
     "name": "#%%\n"
    }
   },
   "outputs": [],
   "source": [
    "import os\n",
    "import pandas as pd\n",
    "import numpy as np\n",
    "\n",
    "# models\n",
    "from fbprophet import Prophet\n",
    "\n",
    "# plots\n",
    "import matplotlib.pyplot as plt\n",
    "import seaborn as sns\n",
    "\n",
    "color = sns.color_palette()\n",
    "sns.set_style('darkgrid')\n",
    "\n",
    "import warnings\n",
    "warnings.filterwarnings('ignore')"
   ]
  },
  {
   "cell_type": "code",
   "execution_count": null,
   "metadata": {
    "pycharm": {
     "name": "#%%\n"
    }
   },
   "outputs": [],
   "source": [
    "df_faang = pd.read_csv(os.getcwd() +\"/data.tmp/processed/fang.csv\", low_memory=False)\n",
    "df_faang.head()"
   ]
  },
  {
   "cell_type": "code",
   "execution_count": null,
   "metadata": {
    "pycharm": {
     "name": "#%%\n"
    }
   },
   "outputs": [],
   "source": [
    "df_faang.isnull().sum()"
   ]
  },
  {
   "cell_type": "markdown",
   "metadata": {},
   "source": [
    "There is no empty data. No rows needs to be dropped"
   ]
  },
  {
   "cell_type": "code",
   "execution_count": null,
   "metadata": {
    "pycharm": {
     "name": "#%%\n"
    }
   },
   "outputs": [],
   "source": [
    "df_faang.info()"
   ]
  },
  {
   "cell_type": "markdown",
   "metadata": {},
   "source": [
    "We need to make change the Date column to Date type and make it to be the index"
   ]
  },
  {
   "cell_type": "markdown",
   "metadata": {},
   "source": [
    "# Data Cleaning"
   ]
  },
  {
   "cell_type": "code",
   "execution_count": null,
   "metadata": {
    "pycharm": {
     "name": "#%%\n"
    }
   },
   "outputs": [],
   "source": [
    "df_faang[\"Date\"] = pd.to_datetime(df_faang[\"Date\"])\n",
    "df_faang = df_faang.set_index(\"Date\")\n",
    "df_faang.head()"
   ]
  },
  {
   "cell_type": "markdown",
   "metadata": {},
   "source": [
    "# Seperate the FAANG dataframe "
   ]
  },
  {
   "cell_type": "code",
   "execution_count": null,
   "metadata": {
    "pycharm": {
     "name": "#%%\n"
    }
   },
   "outputs": [],
   "source": [
    "df_facebook = df_faang.loc[df_faang['Name'] == 'FB']\n",
    "df_apple = df_faang.loc[df_faang['Name'] == 'AAPL']\n",
    "df_amazon = df_faang.loc[df_faang['Name'] == 'AMZN']\n",
    "df_netflix = df_faang.loc[df_faang['Name'] == 'NFLX']\n",
    "df_google = df_faang.loc[df_faang['Name'] == 'GOOGL']\n",
    "\n",
    "list_faang_df = [\n",
    "    (df_facebook, 'FB'),\n",
    "    (df_apple, 'AAPL'),\n",
    "    (df_amazon, 'AMZN'),\n",
    "    (df_netflix, 'NFLX'),\n",
    "    (df_google, 'GOOGL')]"
   ]
  },
  {
   "cell_type": "code",
   "execution_count": null,
   "metadata": {
    "pycharm": {
     "name": "#%%\n"
    }
   },
   "outputs": [],
   "source": [
    "df_google.head()"
   ]
  },
  {
   "cell_type": "markdown",
   "metadata": {},
   "source": [
    "# Understand more about the data with visualisation"
   ]
  },
  {
   "cell_type": "code",
   "execution_count": null,
   "metadata": {
    "pycharm": {
     "name": "#%%\n"
    }
   },
   "outputs": [],
   "source": [
    "plt.figure(figsize=(10,10))\n",
    "plt.plot(df_google['Close'])\n",
    "plt.xlabel(\"Date\")\n",
    "plt.ylabel(\"Price\")\n",
    "plt.title(\"Google Stock Price\")\n",
    "plt.show()"
   ]
  },
  {
   "cell_type": "markdown",
   "metadata": {},
   "source": [
    "Let's explore further"
   ]
  },
  {
   "cell_type": "markdown",
   "metadata": {},
   "source": [
    "## Moving average\n",
    "- Moving average is an indicator that smooth the volatility of daily price changes. \n",
    "- We will be using simple moving average which is the arithmetic mean over a specfic time period\n",
    "\n",
    "We will use 50 days and 200 days moving average."
   ]
  },
  {
   "cell_type": "code",
   "execution_count": null,
   "metadata": {
    "pycharm": {
     "name": "#%%\n"
    }
   },
   "outputs": [],
   "source": [
    "df_google[\"MA50\"] = df_google['Close'].rolling(window=50).mean()\n",
    "df_google[\"MA200\"] = df_google['Close'].rolling(window=200).mean()\n",
    "df_google['ewma'] = df_google['Close'].ewm(halflife=0.5, min_periods=20).mean()"
   ]
  },
  {
   "cell_type": "code",
   "execution_count": null,
   "metadata": {
    "pycharm": {
     "name": "#%%\n"
    }
   },
   "outputs": [],
   "source": [
    "plt.figure(figsize=(10,10))\n",
    "plt.plot(df_google['MA50'], 'g--', label=\"Moving Average 50\")\n",
    "plt.plot(df_google['MA200'], 'r--', label=\"Moving Average 200\")\n",
    "plt.plot(df_google['Close'], label=\"Close\")\n",
    "plt.title(\"Moving average for GOOGL\")\n",
    "plt.legend()\n",
    "plt.show()"
   ]
  },
  {
   "cell_type": "markdown",
   "metadata": {},
   "source": [
    "## Let's take the last 200 trading days for Moving Average"
   ]
  },
  {
   "cell_type": "code",
   "execution_count": null,
   "metadata": {
    "pycharm": {
     "name": "#%%\n"
    }
   },
   "outputs": [],
   "source": [
    "plt.figure(figsize=(10,10))\n",
    "plt.plot(df_google['MA50'].iloc[-200:], 'g--', label=\"Moving Average 50\")\n",
    "plt.plot(df_google['MA200'].iloc[-200:], 'r--', label=\"Moving Average 200\")\n",
    "plt.plot(df_google['Close'].iloc[-200:], label=\"Close\")\n",
    "plt.title(\"GOOGL Last 200 trading days for Moving average\")\n",
    "plt.legend()\n",
    "plt.show()"
   ]
  },
  {
   "cell_type": "markdown",
   "metadata": {},
   "source": [
    "Moving Average 50 days intersect with Moving Average 200 days. If the MA50 cross above MA200, it is an indication to buy. Otherwise, sell\n",
    "<br>\n",
    "### Our data visualisation with moving average indicate that we should buy "
   ]
  },
  {
   "cell_type": "markdown",
   "metadata": {},
   "source": [
    "## Explore further with Bollinger Bands\n",
    "\n",
    "1. Middle Band= 20-day simple moving average (SMA)\n",
    "2. Upper Band= 20-day SMA+(20-day standard deviation of price x 2)\n",
    "3. Lower Band= 20-day SMA–(20-day standard deviation of price x 2)\n",
    "\n",
    "Bollinger Bands illustrate the relative strength or momentum of a stock"
   ]
  },
  {
   "cell_type": "code",
   "execution_count": null,
   "metadata": {
    "pycharm": {
     "name": "#%%\n"
    }
   },
   "outputs": [],
   "source": [
    "df_google['middle_band'] = df_google['Close'].rolling(window=20).mean()\n",
    "df_google['upper_band'] = df_google['Close'].rolling(window=20).mean() + df_google['Close'].rolling(window=20).std()*2\n",
    "df_google['lower_band'] = df_google['Close'].rolling(window=20).mean() - df_google['Close'].rolling(window=20).std()*2"
   ]
  },
  {
   "cell_type": "markdown",
   "metadata": {},
   "source": [
    "## Let's take the last 200 trading days for Bollinger Bands"
   ]
  },
  {
   "cell_type": "code",
   "execution_count": null,
   "metadata": {
    "pycharm": {
     "name": "#%%\n"
    }
   },
   "outputs": [],
   "source": [
    "plt.figure(figsize=(10,10))\n",
    "plt.plot(df_google['upper_band'].iloc[-200:], 'g--', label=\"upper\")\n",
    "plt.plot(df_google['middle_band'].iloc[-200:], 'r--', label=\"middle\")\n",
    "plt.plot(df_google['lower_band'].iloc[-200:], 'y--', label=\"lower\")\n",
    "plt.plot(df_google['Close'].iloc[-200:], label=\"Close\")\n",
    "plt.title(\"GOOGL Last 200 trading days with Bollinger bands\")\n",
    "plt.legend()\n",
    "plt.show()"
   ]
  },
  {
   "cell_type": "markdown",
   "metadata": {},
   "source": [
    "### From bollinger bands, the trend of GOOGLE stock seems to be increasing "
   ]
  },
  {
   "cell_type": "markdown",
   "metadata": {},
   "source": [
    "***\n",
    "# Use Prophet Model \n",
    "## Will GOOGLE stock increase in the future just like what we found out from the data visualization?"
   ]
  },
  {
   "cell_type": "code",
   "execution_count": null,
   "metadata": {
    "pycharm": {
     "name": "#%%\n"
    }
   },
   "outputs": [],
   "source": [
    "df_prophet = df_google.copy()\n",
    "df_prophet.reset_index(drop=False, inplace=True)\n",
    "df_prophet = df_prophet[[\"Date\",\"Close\"]]\n",
    "df_prophet.head()"
   ]
  },
  {
   "cell_type": "markdown",
   "metadata": {},
   "source": [
    "According to Prophet documentation , we have to only have two column with ds and y columns"
   ]
  },
  {
   "cell_type": "code",
   "execution_count": null,
   "metadata": {
    "pycharm": {
     "name": "#%%\n"
    }
   },
   "outputs": [],
   "source": [
    "df_prophet.rename(columns={\n",
    "    \"Date\": \"ds\",\n",
    "    \"Close\": \"y\"\n",
    "}, inplace=True)\n",
    "df_prophet.head()"
   ]
  },
  {
   "cell_type": "code",
   "execution_count": null,
   "metadata": {
    "pycharm": {
     "name": "#%%\n"
    }
   },
   "outputs": [],
   "source": [
    "df_prophet.info()"
   ]
  },
  {
   "cell_type": "markdown",
   "metadata": {},
   "source": [
    "Reduce the GOOGLE  stock rows to start from 2017-01-01 to the current date"
   ]
  },
  {
   "cell_type": "code",
   "execution_count": null,
   "metadata": {
    "pycharm": {
     "name": "#%%\n"
    }
   },
   "outputs": [],
   "source": [
    "df_prophet = df_prophet.loc[df_prophet[\"ds\"].dt.year >= 2017]\n",
    "df_prophet.reset_index(drop=True, inplace=True)\n",
    "df_prophet"
   ]
  },
  {
   "cell_type": "code",
   "execution_count": null,
   "metadata": {
    "pycharm": {
     "name": "#%%\n"
    }
   },
   "outputs": [],
   "source": [
    "model_prophet = Prophet(daily_seasonality=True)\n",
    "model_prophet.fit(df_prophet)"
   ]
  },
  {
   "cell_type": "code",
   "execution_count": null,
   "metadata": {
    "pycharm": {
     "name": "#%%\n"
    }
   },
   "outputs": [],
   "source": [
    "future = model_prophet.make_future_dataframe(periods=365) \n",
    "prediction = model_prophet.predict(future)"
   ]
  },
  {
   "cell_type": "code",
   "execution_count": null,
   "metadata": {
    "pycharm": {
     "name": "#%%\n"
    }
   },
   "outputs": [],
   "source": [
    "model_prophet.plot(prediction)\n",
    "plt.title(\"Prediction of the GOOGLE Stock Price using the Prophet\")\n",
    "plt.xlabel(\"Date\")\n",
    "plt.ylabel(\"Close Price\")\n",
    "plt.show()"
   ]
  },
  {
   "cell_type": "code",
   "execution_count": null,
   "metadata": {
    "pycharm": {
     "name": "#%%\n"
    }
   },
   "outputs": [],
   "source": [
    "model_prophet.plot_components(prediction)\n",
    "plt.show()"
   ]
  },
  {
   "cell_type": "markdown",
   "metadata": {},
   "source": [
    "Based on the estimated trends\n",
    "- GOOGLE stock price is maximum mostly on Thursday\n",
    "- Seasonality information indicates it is best to sell in january and buy in April"
   ]
  },
  {
   "cell_type": "markdown",
   "metadata": {},
   "source": [
    "### Prophet predicts that GOOGLE stock price will increase in the upcoming year which matches up with our prediction from data visualisation\n",
    "\n",
    "## Let's do the prediction for the rest of the ticker\n"
   ]
  },
  {
   "cell_type": "code",
   "execution_count": null,
   "metadata": {
    "pycharm": {
     "name": "#%%\n"
    }
   },
   "outputs": [],
   "source": [
    "for df, ticker_name in list_faang_df[:-1]:\n",
    "    \n",
    "    df[\"MA50\"] = df['Close'].rolling(window=50).mean()\n",
    "    df[\"MA200\"] = df['Close'].rolling(window=200).mean()\n",
    "    df['ewma'] = df['Close'].ewm(halflife=0.5, min_periods=20).mean()\n",
    "\n",
    "    plt.figure(figsize=(10,10))\n",
    "    plt.plot(df['MA50'].iloc[-200:], 'g--', label=\"Moving Average 50\")\n",
    "    plt.plot(df['MA200'].iloc[-200:], 'r--', label=\"Moving Average 200\")\n",
    "    plt.plot(df['Close'].iloc[-200:], label=\"Close\")\n",
    "    plt.title(f\"{ticker_name} Last 200 trading days for Moving average\")\n",
    "    \n",
    "    plt.legend()\n",
    "    plt.show()\n",
    "\n",
    "    df['middle_band'] = df['Close'].rolling(window=20).mean()\n",
    "    df['upper_band'] = df['Close'].rolling(window=20).mean() + df['Close'].rolling(window=20).std()*2\n",
    "    df['lower_band'] = df['Close'].rolling(window=20).mean() - df['Close'].rolling(window=20).std()*2\n",
    "\n",
    "    plt.figure(figsize=(10,10))\n",
    "    plt.plot(df['upper_band'].iloc[-200:], 'g--', label=\"upper\")\n",
    "    plt.plot(df['middle_band'].iloc[-200:], 'r--', label=\"middle\")\n",
    "    plt.plot(df['lower_band'].iloc[-200:], 'y--', label=\"lower\")\n",
    "    plt.plot(df['Close'].iloc[-200:], label=\"Close\")\n",
    "    plt.title(f\"{ticker_name} Last 200 trading days with Bollinger bands\")\n",
    "    \n",
    "    plt.legend()\n",
    "    plt.show()\n",
    "\n",
    "    df_prophet = df.copy()\n",
    "    df_prophet.reset_index(drop=False, inplace=True)\n",
    "    df_prophet = df_prophet[[\"Date\",\"Close\"]]\n",
    "    df_prophet.head()\n",
    "\n",
    "\n",
    "    df_prophet.rename(columns={\n",
    "        \"Date\": \"ds\",\n",
    "        \"Close\": \"y\"\n",
    "    }, inplace=True)\n",
    "\n",
    "\n",
    "    df_prophet = df_prophet.loc[df_prophet[\"ds\"].dt.year >= 2017]\n",
    "    df_prophet.reset_index(drop=True, inplace=True)\n",
    "\n",
    "    model_prophet = Prophet(daily_seasonality=True)\n",
    "    model_prophet.fit(df_prophet)\n",
    "\n",
    "    future = model_prophet.make_future_dataframe(periods=365) \n",
    "    prediction = model_prophet.predict(future)\n",
    "\n",
    "    model_prophet.plot(prediction)\n",
    "    plt.title(f\"Prediction of the {ticker_name} Stock Price using the Prophet\")\n",
    "    plt.xlabel(\"Date\")\n",
    "    plt.ylabel(\"Close Price\")\n",
    "    plt.show()\n",
    "    \n",
    "    model_prophet.plot_components(prediction)\n",
    "    plt.show()\n",
    "    \n",
    "    print(\"=\" *90)"
   ]
  },
  {
   "cell_type": "markdown",
   "metadata": {},
   "source": [
    "## Summary\n",
    "Based on the estimated trends\n",
    "- Stock price maximum mostly on:\n",
    "    - Wednesday for Facebook, Amazon, Apple, Google\n",
    "    - Thursday for Netflix\n",
    "- Seasonality information:\n",
    "    - Buy in April for Facebook, Apple, Amazon, Google\n",
    "    - Buy in  December for Netflix\n",
    "    - Sell in January for Facebook, Google\n",
    "    - Sell in September for Apple, Amazon\n",
    "    - Sell in July for Netflix\n",
    "\n",
    "- All FAANG stock price will increase in upcoming future"
   ]
  },
  {
   "cell_type": "markdown",
   "metadata": {},
   "source": [
    "End of Prophet"
   ]
  },
  {
   "cell_type": "code",
   "execution_count": null,
   "metadata": {
    "pycharm": {
     "name": "#%%\n"
    }
   },
   "outputs": [],
   "source": [
    "import glob\n",
    "import os\n",
    "import datetime\n",
    "import pandas as pd\n",
    "import matplotlib.pyplot as plt"
   ]
  },
  {
   "cell_type": "code",
   "execution_count": null,
   "metadata": {
    "pycharm": {
     "name": "#%%\n"
    }
   },
   "outputs": [],
   "source": [
    "data_FAANG = pd.read_csv(\"data.tmp/processed/fang.csv\")\n",
    "data_FAANG[\"Date\"] = pd.to_datetime(data_FAANG[\"Date\"])\n",
    "data_FAANG = data_FAANG.set_index(\"Date\")"
   ]
  },
  {
   "cell_type": "code",
   "execution_count": null,
   "metadata": {
    "pycharm": {
     "name": "#%%\n"
    }
   },
   "outputs": [],
   "source": [
    "df_facebook = data_FAANG.loc[df_faang[\"Name\"] == \"FB\"]\n",
    "df_apple = data_FAANG.loc[df_faang[\"Name\"] == \"AAPL\"]\n",
    "df_amazon = data_FAANG.loc[df_faang[\"Name\"] == \"AMZN\"]\n",
    "df_netflix = data_FAANG.loc[df_faang[\"Name\"] == \"NFLX\"]\n",
    "df_google = data_FAANG.loc[df_faang[\"Name\"] == \"GOOGL\"]"
   ]
  },
  {
   "cell_type": "markdown",
   "metadata": {},
   "source": [
    " # Q1. Whether the Stock Market Is in An Uptrend\n",
    " \n",
    " Stocks go up because investors are optimistic about the future. This is shown on a stock chart in a number of ways. The most important and easiest way is to look for whether the bottoms on the stock chart are rising and if the market is in a general uptrend (moving from the lower left to the lower right). That means that the buyers are in control of the market, making the stock more likely to go higher than lower."
   ]
  },
  {
   "cell_type": "markdown",
   "metadata": {},
   "source": [
    "###  Facebook"
   ]
  },
  {
   "cell_type": "code",
   "execution_count": null,
   "metadata": {
    "pycharm": {
     "name": "#%%\n"
    }
   },
   "outputs": [],
   "source": [
    "df_facebook_uptrend = ((df_facebook[\"High\"] - df_facebook[\"Low\"]) / df_facebook[\"Volume\"]) * 100\n",
    "df_apple_uptrend = ((df_apple[\"High\"] - df_apple[\"Low\"]) / df_apple[\"Volume\"]) * 100\n",
    "df_amazon_uptrend = ((df_amazon[\"High\"] - df_amazon[\"Low\"]) / df_amazon[\"Volume\"]) * 100\n",
    "df_netflix_uptrend = ((df_netflix[\"High\"] - df_netflix[\"Low\"]) / df_netflix[\"Volume\"]) * 100\n",
    "df_google_uptrend = ((df_google[\"High\"] - df_google[\"Low\"]) / df_google[\"Volume\"]) * 100"
   ]
  },
  {
   "cell_type": "code",
   "execution_count": null,
   "metadata": {
    "pycharm": {
     "name": "#%%\n"
    }
   },
   "outputs": [],
   "source": [
    "plt.figure(figsize=(16,8))\n",
    "plt.title(\"The Stock Market Trend of Facebook\")\n",
    "plt.xlabel(\"Date\", fontsize=15)\n",
    "plt.ylabel(\"Market Trend\", fontsize=15)\n",
    "plt.plot(df_facebook_uptrend)\n",
    "plt.show()"
   ]
  },
  {
   "cell_type": "markdown",
   "metadata": {},
   "source": [
    " Facebook's stock market is in an uptrend. As the graph shown above, it is rising and the market is generally in an up trend."
   ]
  },
  {
   "cell_type": "markdown",
   "metadata": {},
   "source": [
    "### Apple "
   ]
  },
  {
   "cell_type": "code",
   "execution_count": null,
   "metadata": {
    "pycharm": {
     "name": "#%%\n"
    }
   },
   "outputs": [],
   "source": [
    "plt.figure(figsize=(16,8))\n",
    "plt.title(\"The Stock Market Trend of Apple\")\n",
    "plt.xlabel(\"Date\", fontsize=15)\n",
    "plt.ylabel(\"Market Trend\", fontsize=15)\n",
    "plt.plot(df_apple_uptrend)\n",
    "plt.show()"
   ]
  },
  {
   "cell_type": "markdown",
   "metadata": {},
   "source": [
    "Apple's stock market is in an extreme uptrend. As the graph shown above, it does not rise until 2010. It rises significantly after 2015."
   ]
  },
  {
   "cell_type": "markdown",
   "metadata": {},
   "source": [
    "### Amazon"
   ]
  },
  {
   "cell_type": "code",
   "execution_count": null,
   "metadata": {
    "pycharm": {
     "name": "#%%\n"
    }
   },
   "outputs": [],
   "source": [
    "plt.figure(figsize=(16,8))\n",
    "plt.title(\"The Stock Market Trend of Amazon\")\n",
    "plt.xlabel(\"Date\", fontsize=15)\n",
    "plt.ylabel(\"Market Trend\", fontsize=15)\n",
    "plt.plot(df_amazon_uptrend)\n",
    "plt.show()"
   ]
  },
  {
   "cell_type": "markdown",
   "metadata": {},
   "source": [
    "Amazon's stock market is also in an extreme uptrend. As the graph shown above, it does not rise until 2008. It rises significantly after 2016."
   ]
  },
  {
   "cell_type": "markdown",
   "metadata": {},
   "source": [
    "### Netflix"
   ]
  },
  {
   "cell_type": "code",
   "execution_count": 4,
   "metadata": {
    "pycharm": {
     "name": "#%%\n"
    }
   },
   "outputs": [
    {
     "ename": "NameError",
     "evalue": "name 'plt' is not defined",
     "output_type": "error",
     "traceback": [
      "\u001B[0;31m---------------------------------------------------------------------------\u001B[0m",
      "\u001B[0;31mNameError\u001B[0m                                 Traceback (most recent call last)",
      "\u001B[0;32m<ipython-input-4-f727454b3d5c>\u001B[0m in \u001B[0;36m<module>\u001B[0;34m\u001B[0m\n\u001B[0;32m----> 1\u001B[0;31m \u001B[0mplt\u001B[0m\u001B[0;34m.\u001B[0m\u001B[0mfigure\u001B[0m\u001B[0;34m(\u001B[0m\u001B[0mfigsize\u001B[0m\u001B[0;34m=\u001B[0m\u001B[0;34m(\u001B[0m\u001B[0;36m16\u001B[0m\u001B[0;34m,\u001B[0m\u001B[0;36m8\u001B[0m\u001B[0;34m)\u001B[0m\u001B[0;34m)\u001B[0m\u001B[0;34m\u001B[0m\u001B[0;34m\u001B[0m\u001B[0m\n\u001B[0m\u001B[1;32m      2\u001B[0m \u001B[0mplt\u001B[0m\u001B[0;34m.\u001B[0m\u001B[0mtitle\u001B[0m\u001B[0;34m(\u001B[0m\u001B[0;34m\"The Stock Market Trend of Netflix\"\u001B[0m\u001B[0;34m)\u001B[0m\u001B[0;34m\u001B[0m\u001B[0;34m\u001B[0m\u001B[0m\n\u001B[1;32m      3\u001B[0m \u001B[0mplt\u001B[0m\u001B[0;34m.\u001B[0m\u001B[0mxlabel\u001B[0m\u001B[0;34m(\u001B[0m\u001B[0;34m\"Date\"\u001B[0m\u001B[0;34m,\u001B[0m \u001B[0mfontsize\u001B[0m\u001B[0;34m=\u001B[0m\u001B[0;36m15\u001B[0m\u001B[0;34m)\u001B[0m\u001B[0;34m\u001B[0m\u001B[0;34m\u001B[0m\u001B[0m\n\u001B[1;32m      4\u001B[0m \u001B[0mplt\u001B[0m\u001B[0;34m.\u001B[0m\u001B[0mylabel\u001B[0m\u001B[0;34m(\u001B[0m\u001B[0;34m\"Market Trend\"\u001B[0m\u001B[0;34m,\u001B[0m \u001B[0mfontsize\u001B[0m\u001B[0;34m=\u001B[0m\u001B[0;36m15\u001B[0m\u001B[0;34m)\u001B[0m\u001B[0;34m\u001B[0m\u001B[0;34m\u001B[0m\u001B[0m\n\u001B[1;32m      5\u001B[0m \u001B[0mplt\u001B[0m\u001B[0;34m.\u001B[0m\u001B[0mplot\u001B[0m\u001B[0;34m(\u001B[0m\u001B[0mdf_netflix_uptrend\u001B[0m\u001B[0;34m)\u001B[0m\u001B[0;34m\u001B[0m\u001B[0;34m\u001B[0m\u001B[0m\n",
      "\u001B[0;31mNameError\u001B[0m: name 'plt' is not defined"
     ]
    }
   ],
   "source": [
    "plt.figure(figsize=(16,8))\n",
    "plt.title(\"The Stock Market Trend of Netflix\")\n",
    "plt.xlabel(\"Date\", fontsize=15)\n",
    "plt.ylabel(\"Market Trend\", fontsize=15)\n",
    "plt.plot(df_netflix_uptrend)\n",
    "plt.show()"
   ]
  },
  {
   "cell_type": "markdown",
   "metadata": {},
   "source": [
    "Netfix's stock market is also in an extreme uptrend. As the graph shown above, it does not rise until 2014. It rises significantly after 2016."
   ]
  },
  {
   "cell_type": "markdown",
   "metadata": {},
   "source": [
    "### Google"
   ]
  },
  {
   "cell_type": "code",
   "execution_count": null,
   "metadata": {
    "pycharm": {
     "name": "#%%\n"
    }
   },
   "outputs": [],
   "source": [
    "plt.figure(figsize=(16,8))\n",
    "plt.title(\"The Stock Market Trend of Google\")\n",
    "plt.xlabel(\"Date\", fontsize=15)\n",
    "plt.ylabel(\"Market Trend\", fontsize=15)\n",
    "plt.plot(df_google_uptrend)\n",
    "plt.show()"
   ]
  },
  {
   "cell_type": "markdown",
   "metadata": {},
   "source": [
    "Google's stock market is in an uptrend. As the graph shown above, it rises stably and the market is generally in an up trend."
   ]
  },
  {
   "cell_type": "markdown",
   "metadata": {},
   "source": [
    "### In Conclusion"
   ]
  },
  {
   "cell_type": "markdown",
   "metadata": {},
   "source": [
    "FAANG companies all perform pretty well in recent five years. All of their stock markets are in an uptrend obviously. "
   ]
  },
  {
   "cell_type": "markdown",
   "metadata": {},
   "source": [
    "# Q2. Is a Stock Worth Buying? \n",
    "  There are many ways to evaluate if a stock is worth buying. Historical Price is one of them. If the invester wants to invest a stock for the long term, he/ she needs to do more than look at a single company earnings report or current price performance.Looking at the historical price of last ten years or five years will give him/her a sense of whether a company can withstand tough stretches. However, the historical price are not a guarantee of future performance, but can at minimum be illustrative.\n",
    "  \n",
    "  To calculate the historical price of a stock, it requires the PE. ratio from the company so I would use simplified method to replace that complicated formula. "
   ]
  },
  {
   "cell_type": "markdown",
   "metadata": {},
   "source": [
    "### Facebook"
   ]
  },
  {
   "cell_type": "code",
   "execution_count": null,
   "metadata": {
    "pycharm": {
     "name": "#%%\n"
    }
   },
   "outputs": [],
   "source": [
    "df_facebook_price = ((df_facebook[\"High\"] - df_facebook[\"Low\"]) / 2) * 100\n",
    "df_apple_price = ((df_apple[\"High\"] - df_apple[\"Low\"]) / 2) * 100\n",
    "df_amazon_price = ((df_amazon[\"High\"] - df_amazon[\"Low\"]) / 2) * 100\n",
    "df_netflix_price = ((df_netflix[\"High\"] - df_netflix[\"Low\"]) / 2) * 100\n",
    "df_google_price = ((df_google[\"High\"] - df_google[\"Low\"]) / 2) * 100\n"
   ]
  },
  {
   "cell_type": "code",
   "execution_count": null,
   "metadata": {
    "pycharm": {
     "name": "#%%\n"
    }
   },
   "outputs": [],
   "source": [
    "plt.figure(figsize=(16,8))\n",
    "plt.title(\"Historical Stock Price of Facebook\")\n",
    "plt.ylabel(\"Price\", fontsize=15)\n",
    "plt.plot(df_facebook_price)\n",
    "plt.show()"
   ]
  },
  {
   "cell_type": "markdown",
   "metadata": {},
   "source": [
    "From the long run, the historical price of Facebook's stock increases even though there are some ups and downs"
   ]
  },
  {
   "cell_type": "markdown",
   "metadata": {},
   "source": [
    "### Apple "
   ]
  },
  {
   "cell_type": "code",
   "execution_count": null,
   "metadata": {
    "pycharm": {
     "name": "#%%\n"
    }
   },
   "outputs": [],
   "source": [
    "plt.figure(figsize=(16,8))\n",
    "plt.title(\"Historical Stock Price of Apple\")\n",
    "plt.ylabel(\"Price\", fontsize=15)\n",
    "plt.plot(df_apple_price)\n",
    "plt.show()"
   ]
  },
  {
   "cell_type": "markdown",
   "metadata": {},
   "source": [
    "After 2005, the historical price of Apple's stock increases significantly."
   ]
  },
  {
   "cell_type": "markdown",
   "metadata": {},
   "source": [
    "### Amazon "
   ]
  },
  {
   "cell_type": "code",
   "execution_count": null,
   "metadata": {
    "pycharm": {
     "name": "#%%\n"
    }
   },
   "outputs": [],
   "source": [
    "plt.figure(figsize=(16,8))\n",
    "plt.title(\"Historical Stock Price of Amazon\")\n",
    "plt.ylabel(\"Price\", fontsize=15)\n",
    "plt.plot(df_amazon_price)\n",
    "plt.show()"
   ]
  },
  {
   "cell_type": "markdown",
   "metadata": {},
   "source": [
    "From the long run, the historical price of Amazon's stock increases especially in the 2020."
   ]
  },
  {
   "cell_type": "markdown",
   "metadata": {},
   "source": [
    "### Netflix"
   ]
  },
  {
   "cell_type": "code",
   "execution_count": null,
   "metadata": {
    "pycharm": {
     "name": "#%%\n"
    }
   },
   "outputs": [],
   "source": [
    "plt.figure(figsize=(16,8))\n",
    "plt.title(\"Historical Stock Price of Netflex\")\n",
    "plt.ylabel(\"Price\", fontsize=15)\n",
    "plt.plot(df_netflix_price)\n",
    "plt.show()"
   ]
  },
  {
   "cell_type": "markdown",
   "metadata": {},
   "source": [
    "From the long run, the historical price of Netflix's stock increases. Especially after 2016, it increases significantly."
   ]
  },
  {
   "cell_type": "markdown",
   "metadata": {},
   "source": [
    "### Google"
   ]
  },
  {
   "cell_type": "code",
   "execution_count": null,
   "metadata": {
    "pycharm": {
     "name": "#%%\n"
    }
   },
   "outputs": [],
   "source": [
    "plt.figure(figsize=(16,8))\n",
    "plt.title(\"Historical Stock Price of Google\")\n",
    "plt.ylabel(\"Price\", fontsize=15)\n",
    "plt.plot(df_google_price)\n",
    "plt.show()"
   ]
  },
  {
   "cell_type": "markdown",
   "metadata": {},
   "source": [
    "In the long run, the historical price of Google's stock increases even though there are some ups and downs."
   ]
  },
  {
   "cell_type": "markdown",
   "metadata": {},
   "source": [
    "End of Ben's Questions"
   ]
  },
  {
   "cell_type": "code",
   "execution_count": null,
   "metadata": {
    "pycharm": {
     "name": "#%%\n"
    }
   },
   "outputs": [],
   "source": [
    "import glob\n",
    "import os\n",
    "import pandas as pd\n",
    "import matplotlib.pyplot as plt"
   ]
  },
  {
   "cell_type": "code",
   "execution_count": null,
   "metadata": {
    "pycharm": {
     "name": "#%%\n"
    }
   },
   "outputs": [],
   "source": [
    "df_faang = pd.read_csv(os.getcwd() +\"/data.tmp/processed/fang.csv\", low_memory=False)\n",
    "\n",
    "df_faang[\"Date\"] = pd.to_datetime(df_faang[\"Date\"])\n",
    "df_faang = df_faang.set_index(\"Date\")"
   ]
  },
  {
   "cell_type": "code",
   "execution_count": null,
   "metadata": {
    "pycharm": {
     "name": "#%%\n"
    }
   },
   "outputs": [],
   "source": [
    "df_facebook = df_faang.loc[df_faang['Name'] == 'FB']\n",
    "df_apple = df_faang.loc[df_faang['Name'] == 'AAPL']\n",
    "df_amazon = df_faang.loc[df_faang['Name'] == 'AMZN']\n",
    "df_netflix = df_faang.loc[df_faang['Name'] == 'NFLX']\n",
    "df_google = df_faang.loc[df_faang['Name'] == 'GOOGL']"
   ]
  },
  {
   "cell_type": "markdown",
   "metadata": {},
   "source": [
    "## 1. Which date provided the highest percentage return/lost for each company?"
   ]
  },
  {
   "cell_type": "code",
   "execution_count": null,
   "metadata": {
    "pycharm": {
     "name": "#%%\n"
    }
   },
   "outputs": [],
   "source": [
    "df_facebook_returns = ((df_facebook['Close'] - df_facebook['Open']) / df_facebook['Open']) * 100\n",
    "df_apple_returns = ((df_apple['Close'] - df_apple['Open']) / df_apple['Open']) * 100\n",
    "df_amazon_returns = ((df_amazon['Close'] - df_amazon['Open']) / df_amazon['Open']) * 100\n",
    "df_netflix_returns = ((df_netflix['Close'] - df_netflix['Open']) / df_netflix['Open']) * 100\n",
    "df_google_returns = ((df_google['Close'] - df_google['Open']) / df_google['Open']) * 100"
   ]
  },
  {
   "cell_type": "markdown",
   "metadata": {},
   "source": [
    "### Facebook"
   ]
  },
  {
   "cell_type": "code",
   "execution_count": null,
   "metadata": {
    "pycharm": {
     "name": "#%%\n"
    }
   },
   "outputs": [],
   "source": [
    "plt.figure(figsize=(16,8))\n",
    "plt.title('Facebook Percentage Returns/Lost')\n",
    "plt.xlabel('Date', fontsize=18)\n",
    "plt.ylabel('Percentage Gain/Lost (%)', fontsize=18)\n",
    "plt.plot(df_facebook_returns)\n",
    "plt.show()"
   ]
  },
  {
   "cell_type": "code",
   "execution_count": null,
   "metadata": {
    "pycharm": {
     "name": "#%%\n"
    }
   },
   "outputs": [],
   "source": [
    "print(df_facebook_returns[df_facebook_returns == df_facebook_returns.min()])\n",
    "print(df_facebook_returns[df_facebook_returns == df_facebook_returns.max()])"
   ]
  },
  {
   "cell_type": "markdown",
   "metadata": {},
   "source": [
    "On 18 May 2012, Facebook had its highest percentage decrease. They decreased in value by 9.084423%.\n",
    "\n",
    "On 14 November 2012, Facebook had its highest percentage increase. They increased in value by 11.243782%."
   ]
  },
  {
   "cell_type": "markdown",
   "metadata": {},
   "source": [
    "### Apple"
   ]
  },
  {
   "cell_type": "code",
   "execution_count": null,
   "metadata": {
    "pycharm": {
     "name": "#%%\n"
    }
   },
   "outputs": [],
   "source": [
    "plt.figure(figsize=(16,8))\n",
    "plt.title('Apple Percentage Returns/Lost')\n",
    "plt.xlabel('Date', fontsize=18)\n",
    "plt.ylabel('Percentage Gain/Lost (%)', fontsize=18)\n",
    "plt.plot(df_apple_returns)\n",
    "plt.show()"
   ]
  },
  {
   "cell_type": "code",
   "execution_count": null,
   "metadata": {
    "pycharm": {
     "name": "#%%\n"
    }
   },
   "outputs": [],
   "source": [
    "print(df_apple_returns[df_apple_returns == df_apple_returns.min()])\n",
    "print(df_apple_returns[df_apple_returns == df_apple_returns.max()])"
   ]
  },
  {
   "cell_type": "markdown",
   "metadata": {},
   "source": [
    "On 19 October 1987, Apple had its highest percentage decrease. They decreased in value by 24.352329%.\n",
    "\n",
    "On 02 January 1998, Apple had its highest percentage increase. They increased in value by 19.266055%."
   ]
  },
  {
   "cell_type": "markdown",
   "metadata": {},
   "source": [
    "### Amazon"
   ]
  },
  {
   "cell_type": "code",
   "execution_count": null,
   "metadata": {
    "pycharm": {
     "name": "#%%\n"
    }
   },
   "outputs": [],
   "source": [
    "plt.figure(figsize=(16,8))\n",
    "plt.title('Amazon Percentage Returns/Lost')\n",
    "plt.xlabel('Date', fontsize=18)\n",
    "plt.ylabel('Percentage Gain/Lost (%)', fontsize=18)\n",
    "plt.plot(df_amazon_returns)\n",
    "plt.show()"
   ]
  },
  {
   "cell_type": "code",
   "execution_count": null,
   "metadata": {
    "pycharm": {
     "name": "#%%\n"
    }
   },
   "outputs": [],
   "source": [
    "print(df_amazon_returns[df_amazon_returns == df_amazon_returns.min()])\n",
    "print(df_amazon_returns[df_amazon_returns == df_amazon_returns.max()])"
   ]
  },
  {
   "cell_type": "markdown",
   "metadata": {},
   "source": [
    "On 31 August 1998, Amazon had its highest percentage decrease. They decreased in value by 20.569056%.\n",
    "\n",
    "On 03 January 2001, Amazon had its highest percentage increase. They increased in value by 28.899083%."
   ]
  },
  {
   "cell_type": "markdown",
   "metadata": {},
   "source": [
    "### Netflix"
   ]
  },
  {
   "cell_type": "code",
   "execution_count": null,
   "metadata": {
    "pycharm": {
     "name": "#%%\n"
    }
   },
   "outputs": [],
   "source": [
    "plt.figure(figsize=(16,8))\n",
    "plt.title('Netflix Percentage Returns/Lost')\n",
    "plt.xlabel('Date', fontsize=18)\n",
    "plt.ylabel('Percentage Gain/Lost (%)', fontsize=18)\n",
    "plt.plot(df_netflix_returns)\n",
    "plt.show()"
   ]
  },
  {
   "cell_type": "code",
   "execution_count": null,
   "metadata": {
    "pycharm": {
     "name": "#%%\n"
    }
   },
   "outputs": [],
   "source": [
    "print(df_netflix_returns[df_netflix_returns == df_netflix_returns.min()])\n",
    "print(df_netflix_returns[df_netflix_returns == df_netflix_returns.max()])"
   ]
  },
  {
   "cell_type": "markdown",
   "metadata": {},
   "source": [
    "On 26 July 2002, Netlix had its highest percentage decrease. They decreased in value by 17.006801%.\n",
    "\n",
    "On 10 October 2002, Netflix had its highest percentage increase. They increased in value by 34.02647%."
   ]
  },
  {
   "cell_type": "markdown",
   "metadata": {},
   "source": [
    "### Google"
   ]
  },
  {
   "cell_type": "code",
   "execution_count": null,
   "metadata": {
    "pycharm": {
     "name": "#%%\n"
    }
   },
   "outputs": [],
   "source": [
    "plt.figure(figsize=(16,8))\n",
    "plt.title('Google Percentage Returns/Lost')\n",
    "plt.xlabel('Date', fontsize=18)\n",
    "plt.ylabel('Percentage Gain/Lost (%)', fontsize=18)\n",
    "plt.plot(df_google_returns)\n",
    "plt.show()"
   ]
  },
  {
   "cell_type": "code",
   "execution_count": null,
   "metadata": {
    "pycharm": {
     "name": "#%%\n"
    }
   },
   "outputs": [],
   "source": [
    "print(df_google_returns[df_google_returns == df_google_returns.min()])\n",
    "print(df_google_returns[df_google_returns == df_google_returns.max()])"
   ]
  },
  {
   "cell_type": "markdown",
   "metadata": {},
   "source": [
    "On 29 September 2008, Google had its highest percentage decrease. They decreased in value by 9.179758%.\n",
    "\n",
    "On 28 October 2008, Google had its highest percentage increase. They increased in value by 8.759763%."
   ]
  },
  {
   "cell_type": "markdown",
   "metadata": {},
   "source": [
    "## 2. Are there any significance to these dates?"
   ]
  },
  {
   "cell_type": "markdown",
   "metadata": {},
   "source": [
    "### Facebook\n",
    "#### 18 May 2012, decreased in value by ~9%\n",
    "\n",
    "18 May 2012 was Facebook's IPO, the day it made its debut to the stock market. It smashed the record for highest trading volume at that time with 570 million shares being traded. Facebook set its final IPO price at \\$38. The first trade came in at \\$42. However, it quickly took a reverse dropping down to \\$38.23 by the end of the day leading to a final decrease by 9%. \n",
    "\n",
    "(Source: https://money.cnn.com/2012/05/18/technology/facebook-ipo-trading/index.htm)"
   ]
  },
  {
   "cell_type": "markdown",
   "metadata": {},
   "source": [
    "#### 14 November 2012, Increased in value by ~11%\n",
    "\n",
    "I was not able to find any significant event on 14 November 2012 relating to Facebook. They however did release their 3rd Quarter 2012 results on October 2012 with some great numbers which may have led to the increased in value.\n",
    "\n",
    "Data Reported:\n",
    "    * Monthly active users (MAUs) were 1.01 billion as of September 30, 2012, an increase of 26% year-over-year\n",
    "    * Daily active users (DAUs) were 584 million on average for September 2012, an increase of 28% year-over-year\n",
    "    * Mobile MAUs were 604 million as of September 30, 2012, an increase of 61% year-over-year \n",
    "(Source: https://investor.fb.com/investor-news/press-release-details/2012/Facebook-Reports-Third-Quarter-2012-Results/default.aspx)"
   ]
  },
  {
   "cell_type": "markdown",
   "metadata": {},
   "source": [
    "### Apple\n",
    "#### 19 October 1987, decreased in value by ~24%\n",
    "Black Monday! On 19 October 1987 (also known as the Black Monday) the Dow Jones Industrial Average fell by 508 points ( a 22% decrease). According to Investopedia, Economists have attributed the crash to a combination of geopolitical events and the advent of computerized program trading that accelerated the selloff.\n",
    "\n",
    "(Source: https://www.investopedia.com/terms/b/blackmonday.asp)\n",
    "\n",
    "#### 02 January 1998, Increased in value by ~19%\n",
    "There was not any significant event on 2 January 1998 relating to Apple. However on 10 Novemeber 1997, Apple Computer introduces the Power Macintosh G3 computer, released the PowberBook G3, and Steven Jobs announces further changes to Apple’s corporate strategy. Apple would now sell computers direct, both over the web and the phone, as Power Computing had done so well in the past. This may have attributed to the increase in Apple's value.\n",
    "\n",
    "(Source: https://igotoffer.com/apple/history-apple-1997-1998)"
   ]
  },
  {
   "cell_type": "markdown",
   "metadata": {},
   "source": [
    "### Amazon\n",
    "#### 31 August 1998, decreased in value by ~21%\n",
    "I was not able to find any significant event on 31 August 1998 relating to Amazon.\n",
    "\n",
    "#### 03 January 2001, Increased in value by ~29%\n",
    "There was not any significant event on 03 Januart 2001 but it is important to note that around the year 2000, the dot-com bubble burst destroyed many e-companies in the process, but Amazon survived and moved forward beyond the tech crash to become a huge player in online sales.\n",
    "\n",
    "(Source: https://www.investopedia.com/terms/d/dotcom-bubble.asp)"
   ]
  },
  {
   "cell_type": "markdown",
   "metadata": {},
   "source": [
    "### Netflix\n",
    "#### 26 July 2002, decreased in value by ~17%\n",
    "I was not able to find any significant event on 26 July 2002 relating to Netflix.\n",
    "\n",
    "#### 10 October 2002, Increased in value by ~34%\n",
    "I was not able to find any significant event on 10 October 2002 relating to Netflix.\n",
    "\n",
    "These dates are however really close to Netflix's IPO date which is on 23 May 2002 which may (or may not) play a part on its volatility."
   ]
  },
  {
   "cell_type": "markdown",
   "metadata": {},
   "source": [
    "### Google\n",
    "#### 29 September 2008, decreased in value by ~9%\n",
    "On this day, the stock market crashed yet again with the Dow Jones Industrial Average losing nearly 778 points,after the House rejected the government's /$700 billion bank bailout plan.\n",
    "\n",
    "(Source: https://money.cnn.com/2008/09/29/markets/markets_newyork/)\n",
    "\n",
    "\n",
    "#### 28 October 2008, Increased in value by ~9/%\n",
    "On this day, the Dow Jones industrial average added 889 points after having risen as much as 906 points earlier in the session. It was the Dow's second-biggest one-day point gain ever then, following a 936-point rally two weeks ago. The advance of 10.9/% was the sixth-biggest ever then.\n",
    "\n",
    "(Source: https://money.cnn.com/2008/10/28/markets/markets_newyork/)"
   ]
  },
  {
   "cell_type": "code",
   "execution_count": null,
   "metadata": {
    "pycharm": {
     "name": "#%% md \n"
    }
   },
   "outputs": [],
   "source": [
    "End of Warren's Questions"
   ]
  }
 ],
 "metadata": {
  "kernelspec": {
   "display_name": "Python 3",
   "language": "python",
   "name": "python3"
  },
  "language_info": {
   "codemirror_mode": {
    "name": "ipython",
    "version": 3
   },
   "file_extension": ".py",
   "mimetype": "text/x-python",
   "name": "python",
   "nbconvert_exporter": "python",
   "pygments_lexer": "ipython3",
   "version": "3.8.3"
  },
  "pycharm": {
   "stem_cell": {
    "cell_type": "raw",
    "source": [
     "import glob\n",
     "import os\n",
     "import pandas as pd\n",
     "\n",
     "all_stock_df_list = []\n",
     "for filename in glob.glob(os.getcwd() +\"/data.tmp/raw/\"+\"*.csv\"):\n",
     "    x = pd.read_csv(filename, low_memory=False)\n",
     "    all_stock_df_list.append(x)\n",
     "\n",
     "df = pd.concat(all_stock_df_list)\n",
     "df.reset_index(inplace=True, drop=True)\n",
     "df\n"
    ],
    "metadata": {
     "collapsed": false
    }
   }
  }
 },
 "nbformat": 4,
 "nbformat_minor": 1
}