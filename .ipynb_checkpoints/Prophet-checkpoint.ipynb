{
 "cells": [
  {
   "cell_type": "code",
   "execution_count": 1,
   "metadata": {},
   "outputs": [],
   "source": [
    "import os\n",
    "import pandas as pd\n",
    "import numpy as np\n",
    "import matplotlib.pyplot as plt\n",
    "import seaborn as sns\n",
    "\n",
    "color = sns.color_palette()\n",
    "sns.set_style('darkgrid')\n",
    "\n",
    "import warnings\n",
    "warnings.filterwarnings('ignore')"
   ]
  },
  {
   "cell_type": "code",
   "execution_count": 2,
   "metadata": {
    "scrolled": true
   },
   "outputs": [
    {
     "data": {
      "text/html": [
       "<div>\n",
       "<style scoped>\n",
       "    .dataframe tbody tr th:only-of-type {\n",
       "        vertical-align: middle;\n",
       "    }\n",
       "\n",
       "    .dataframe tbody tr th {\n",
       "        vertical-align: top;\n",
       "    }\n",
       "\n",
       "    .dataframe thead th {\n",
       "        text-align: right;\n",
       "    }\n",
       "</style>\n",
       "<table border=\"1\" class=\"dataframe\">\n",
       "  <thead>\n",
       "    <tr style=\"text-align: right;\">\n",
       "      <th></th>\n",
       "      <th>Date</th>\n",
       "      <th>High</th>\n",
       "      <th>Low</th>\n",
       "      <th>Open</th>\n",
       "      <th>Close</th>\n",
       "      <th>Volume</th>\n",
       "      <th>Adj Close</th>\n",
       "      <th>Name</th>\n",
       "    </tr>\n",
       "  </thead>\n",
       "  <tbody>\n",
       "    <tr>\n",
       "      <th>0</th>\n",
       "      <td>2002-05-23</td>\n",
       "      <td>1.242857</td>\n",
       "      <td>1.145714</td>\n",
       "      <td>1.156429</td>\n",
       "      <td>1.196429</td>\n",
       "      <td>104790000.0</td>\n",
       "      <td>1.196429</td>\n",
       "      <td>NFLX</td>\n",
       "    </tr>\n",
       "    <tr>\n",
       "      <th>1</th>\n",
       "      <td>2002-05-24</td>\n",
       "      <td>1.225000</td>\n",
       "      <td>1.197143</td>\n",
       "      <td>1.214286</td>\n",
       "      <td>1.210000</td>\n",
       "      <td>11104800.0</td>\n",
       "      <td>1.210000</td>\n",
       "      <td>NFLX</td>\n",
       "    </tr>\n",
       "    <tr>\n",
       "      <th>2</th>\n",
       "      <td>2002-05-28</td>\n",
       "      <td>1.232143</td>\n",
       "      <td>1.157143</td>\n",
       "      <td>1.213571</td>\n",
       "      <td>1.157143</td>\n",
       "      <td>6609400.0</td>\n",
       "      <td>1.157143</td>\n",
       "      <td>NFLX</td>\n",
       "    </tr>\n",
       "    <tr>\n",
       "      <th>3</th>\n",
       "      <td>2002-05-29</td>\n",
       "      <td>1.164286</td>\n",
       "      <td>1.085714</td>\n",
       "      <td>1.164286</td>\n",
       "      <td>1.103571</td>\n",
       "      <td>6757800.0</td>\n",
       "      <td>1.103571</td>\n",
       "      <td>NFLX</td>\n",
       "    </tr>\n",
       "    <tr>\n",
       "      <th>4</th>\n",
       "      <td>2002-05-30</td>\n",
       "      <td>1.107857</td>\n",
       "      <td>1.071429</td>\n",
       "      <td>1.107857</td>\n",
       "      <td>1.071429</td>\n",
       "      <td>10154200.0</td>\n",
       "      <td>1.071429</td>\n",
       "      <td>NFLX</td>\n",
       "    </tr>\n",
       "    <tr>\n",
       "      <th>...</th>\n",
       "      <td>...</td>\n",
       "      <td>...</td>\n",
       "      <td>...</td>\n",
       "      <td>...</td>\n",
       "      <td>...</td>\n",
       "      <td>...</td>\n",
       "      <td>...</td>\n",
       "      <td>...</td>\n",
       "    </tr>\n",
       "    <tr>\n",
       "      <th>26845</th>\n",
       "      <td>2020-11-04</td>\n",
       "      <td>3244.850098</td>\n",
       "      <td>3139.729980</td>\n",
       "      <td>3159.989990</td>\n",
       "      <td>3241.159912</td>\n",
       "      <td>6839000.0</td>\n",
       "      <td>3241.159912</td>\n",
       "      <td>AMZN</td>\n",
       "    </tr>\n",
       "    <tr>\n",
       "      <th>26846</th>\n",
       "      <td>2020-11-05</td>\n",
       "      <td>3366.800049</td>\n",
       "      <td>3288.879883</td>\n",
       "      <td>3319.969971</td>\n",
       "      <td>3322.000000</td>\n",
       "      <td>5789300.0</td>\n",
       "      <td>3322.000000</td>\n",
       "      <td>AMZN</td>\n",
       "    </tr>\n",
       "    <tr>\n",
       "      <th>26847</th>\n",
       "      <td>2020-11-06</td>\n",
       "      <td>3322.000000</td>\n",
       "      <td>3232.000000</td>\n",
       "      <td>3304.639893</td>\n",
       "      <td>3311.370117</td>\n",
       "      <td>4647300.0</td>\n",
       "      <td>3311.370117</td>\n",
       "      <td>AMZN</td>\n",
       "    </tr>\n",
       "    <tr>\n",
       "      <th>26848</th>\n",
       "      <td>2020-11-09</td>\n",
       "      <td>3289.000000</td>\n",
       "      <td>3112.110107</td>\n",
       "      <td>3231.030029</td>\n",
       "      <td>3143.739990</td>\n",
       "      <td>7190400.0</td>\n",
       "      <td>3143.739990</td>\n",
       "      <td>AMZN</td>\n",
       "    </tr>\n",
       "    <tr>\n",
       "      <th>26849</th>\n",
       "      <td>2020-11-10</td>\n",
       "      <td>3114.000000</td>\n",
       "      <td>3019.479980</td>\n",
       "      <td>3095.020020</td>\n",
       "      <td>3035.020020</td>\n",
       "      <td>6563300.0</td>\n",
       "      <td>3035.020020</td>\n",
       "      <td>AMZN</td>\n",
       "    </tr>\n",
       "  </tbody>\n",
       "</table>\n",
       "<p>26850 rows × 8 columns</p>\n",
       "</div>"
      ],
      "text/plain": [
       "             Date         High          Low         Open        Close  \\\n",
       "0      2002-05-23     1.242857     1.145714     1.156429     1.196429   \n",
       "1      2002-05-24     1.225000     1.197143     1.214286     1.210000   \n",
       "2      2002-05-28     1.232143     1.157143     1.213571     1.157143   \n",
       "3      2002-05-29     1.164286     1.085714     1.164286     1.103571   \n",
       "4      2002-05-30     1.107857     1.071429     1.107857     1.071429   \n",
       "...           ...          ...          ...          ...          ...   \n",
       "26845  2020-11-04  3244.850098  3139.729980  3159.989990  3241.159912   \n",
       "26846  2020-11-05  3366.800049  3288.879883  3319.969971  3322.000000   \n",
       "26847  2020-11-06  3322.000000  3232.000000  3304.639893  3311.370117   \n",
       "26848  2020-11-09  3289.000000  3112.110107  3231.030029  3143.739990   \n",
       "26849  2020-11-10  3114.000000  3019.479980  3095.020020  3035.020020   \n",
       "\n",
       "            Volume    Adj Close  Name  \n",
       "0      104790000.0     1.196429  NFLX  \n",
       "1       11104800.0     1.210000  NFLX  \n",
       "2        6609400.0     1.157143  NFLX  \n",
       "3        6757800.0     1.103571  NFLX  \n",
       "4       10154200.0     1.071429  NFLX  \n",
       "...            ...          ...   ...  \n",
       "26845    6839000.0  3241.159912  AMZN  \n",
       "26846    5789300.0  3322.000000  AMZN  \n",
       "26847    4647300.0  3311.370117  AMZN  \n",
       "26848    7190400.0  3143.739990  AMZN  \n",
       "26849    6563300.0  3035.020020  AMZN  \n",
       "\n",
       "[26850 rows x 8 columns]"
      ]
     },
     "execution_count": 2,
     "metadata": {},
     "output_type": "execute_result"
    }
   ],
   "source": [
    "df_faang = pd.read_csv(os.getcwd() +\"/data.tmp/processed/fang.csv\", low_memory=False)\n",
    "df_faang"
   ]
  },
  {
   "cell_type": "code",
   "execution_count": 3,
   "metadata": {
    "scrolled": false
   },
   "outputs": [],
   "source": [
    "# df_faang.set_index(\"Date\")"
   ]
  },
  {
   "cell_type": "code",
   "execution_count": 4,
   "metadata": {},
   "outputs": [
    {
     "name": "stdout",
     "output_type": "stream",
     "text": [
      "<class 'pandas.core.frame.DataFrame'>\n",
      "RangeIndex: 26850 entries, 0 to 26849\n",
      "Data columns (total 8 columns):\n",
      " #   Column     Non-Null Count  Dtype  \n",
      "---  ------     --------------  -----  \n",
      " 0   Date       26850 non-null  object \n",
      " 1   High       26850 non-null  float64\n",
      " 2   Low        26850 non-null  float64\n",
      " 3   Open       26850 non-null  float64\n",
      " 4   Close      26850 non-null  float64\n",
      " 5   Volume     26850 non-null  float64\n",
      " 6   Adj Close  26850 non-null  float64\n",
      " 7   Name       26850 non-null  object \n",
      "dtypes: float64(6), object(2)\n",
      "memory usage: 1.6+ MB\n"
     ]
    }
   ],
   "source": [
    "df_faang.info()"
   ]
  },
  {
   "cell_type": "code",
   "execution_count": 7,
   "metadata": {},
   "outputs": [],
   "source": [
    "df_facebook = df_faang[df_faang['Name'] == 'FB']\n",
    "df_apple = df_faang[df_faang['Name'] == 'AAPL']\n",
    "df_amazon = df_faang[df_faang['Name'] == 'AMZN']\n",
    "df_netflix = df_faang[df_faang['Name'] == 'NFLX']\n",
    "df_google = df_faang[df_faang['Name'] == 'GOOGL']"
   ]
  },
  {
   "cell_type": "code",
   "execution_count": null,
   "metadata": {},
   "outputs": [],
   "source": [
    "plt.figure(figsize=(10,10))\n",
    "plt.plot(df_apple[\"Date\"], df_apple['Close'])\n",
    "plt.xlabel(\"Date\")\n",
    "plt.ylabel(\"Price\")\n",
    "plt.title(\"AAPL Stock Price up to 11/11/2020\")\n",
    "plt.show()"
   ]
  },
  {
   "cell_type": "code",
   "execution_count": null,
   "metadata": {
    "scrolled": true
   },
   "outputs": [],
   "source": [
    "df_apple[\"MA50\"] = df_apple['Close'].rolling(window=50).mean()\n",
    "df_apple[\"MA200\"] = df_apple['Close'].rolling(window=200).mean()\n",
    "df_apple['ewma'] = df_apple['Close'].ewm(halflife=0.5, min_periods=20).mean()"
   ]
  },
  {
   "cell_type": "code",
   "execution_count": null,
   "metadata": {},
   "outputs": [],
   "source": [
    "plt.figure(figsize=(10,10))\n",
    "plt.plot(apple['MA50'], 'g--', label=\"Moving Average 50\")\n",
    "plt.plot(apple['MA200'], 'r--', label=\"Moving Average 200\")\n",
    "plt.plot(apple['Close'], label=\"Close\")\n",
    "plt.legend()\n",
    "plt.show()"
   ]
  },
  {
   "cell_type": "code",
   "execution_count": null,
   "metadata": {},
   "outputs": [],
   "source": [
    "df_apple['middle_band'] = df_apple['Close'].rolling(window=20).mean()\n",
    "df_apple['upper_band'] = df_apple['Close'].rolling(window=20).mean() + df_apple['Close'].rolling(window=20).std()*2\n",
    "df_apple['lower_band'] = df_apple['Close'].rolling(window=20).mean() - df_apple['Close'].rolling(window=20).std()*2\n",
    "\n",
    "\n"
   ]
  },
  {
   "cell_type": "code",
   "execution_count": null,
   "metadata": {},
   "outputs": [],
   "source": [
    "plt.figure(figsize=(10,10))\n",
    "plt.plot(apple['upper_band'], 'g--', label=\"upper\")\n",
    "plt.plot(apple['middle_band'], 'r--', label=\"middle\")\n",
    "plt.plot(apple['lower_band'], 'y--', label=\"lower\")\n",
    "plt.plot(apple['Close'], label=\"Close\")\n",
    "plt.legend()\n",
    "plt.show()\n"
   ]
  },
  {
   "cell_type": "raw",
   "metadata": {},
   "source": [
    "\n",
    "plt.figure(figsize=(10,10))\n",
    "plt.plot(apple['upper_band'].iloc[-200:], 'g--', label=\"upper\")\n",
    "plt.plot(apple['middle_band'].iloc[-200:], 'r--', label=\"middle\")\n",
    "plt.plot(apple['lower_band'].iloc[-200:], 'y--', label=\"lower\")\n",
    "plt.plot(apple['Close'].iloc[-200:], label=\"Close\")\n",
    "plt.legend()\n",
    "plt.show()"
   ]
  }
 ],
 "metadata": {
  "kernelspec": {
   "display_name": "Python 3",
   "language": "python",
   "name": "python3"
  },
  "language_info": {
   "codemirror_mode": {
    "name": "ipython",
    "version": 3
   },
   "file_extension": ".py",
   "mimetype": "text/x-python",
   "name": "python",
   "nbconvert_exporter": "python",
   "pygments_lexer": "ipython3",
   "version": "3.8.5"
  }
 },
 "nbformat": 4,
 "nbformat_minor": 4
}
